{
  "nbformat": 4,
  "nbformat_minor": 0,
  "metadata": {
    "colab": {
      "name": "CNN",
      "version": "0.3.2",
      "provenance": [],
      "collapsed_sections": [],
      "include_colab_link": true
    },
    "kernelspec": {
      "name": "python3",
      "display_name": "Python 3"
    }
  },
  "cells": [
    {
      "cell_type": "markdown",
      "metadata": {
        "id": "view-in-github",
        "colab_type": "text"
      },
      "source": [
        "<a href=\"https://colab.research.google.com/github/rachit-shah/Apparent-Age-Prediction-using-CNN/blob/master/CNN%2BRNN-dropout.ipynb\" target=\"_parent\"><img src=\"https://colab.research.google.com/assets/colab-badge.svg\" alt=\"Open In Colab\"/></a>"
      ]
    },
    {
      "metadata": {
        "id": "BToPi2JX6jzd",
        "colab_type": "text"
      },
      "cell_type": "markdown",
      "source": [
        "## Load Data and Glove Model From Drive"
      ]
    },
    {
      "metadata": {
        "id": "JvS3pf0t6zsk",
        "colab_type": "code",
        "colab": {
          "base_uri": "https://localhost:8080/",
          "height": 35
        },
        "outputId": "e8cf924f-29ad-429e-f2e1-403f8dce6d8d"
      },
      "cell_type": "code",
      "source": [
        "from google.colab import drive\n",
        "drive.mount('/content/gdrive')"
      ],
      "execution_count": 1,
      "outputs": [
        {
          "output_type": "stream",
          "text": [
            "Drive already mounted at /content/gdrive; to attempt to forcibly remount, call drive.mount(\"/content/gdrive\", force_remount=True).\n"
          ],
          "name": "stdout"
        }
      ]
    },
    {
      "metadata": {
        "id": "e9s7l5uI7QWJ",
        "colab_type": "code",
        "colab": {
          "base_uri": "https://localhost:8080/",
          "height": 846
        },
        "outputId": "3471cebc-c029-47ef-adc7-4ebc9a1c327c"
      },
      "cell_type": "code",
      "source": [
        "import pandas as pd\n",
        "import numpy as np\n",
        "import matplotlib.pyplot as plt\n",
        "import os\n",
        "%matplotlib inline\n",
        "import nltk\n",
        "nltk.download('popular')\n",
        "\n",
        "from keras.preprocessing.text import Tokenizer\n",
        "from keras.preprocessing.sequence import pad_sequences\n",
        "from keras.utils import to_categorical\n",
        "from keras.layers import Dense, Input, GlobalMaxPooling1D, Dropout, LSTM, GRU, Bidirectional, SpatialDropout1D\n",
        "from keras.layers import Conv1D, MaxPooling1D, Embedding, Flatten\n",
        "from keras.callbacks import ModelCheckpoint, EarlyStopping, TensorBoard\n",
        "from keras.models import Model\n",
        "from keras.initializers import Constant\n",
        "\n",
        "from wordcloud import WordCloud\n",
        "import matplotlib.pyplot as plt\n",
        "from sklearn.feature_extraction import text \n",
        "from wordcloud import WordCloud, STOPWORDS\n",
        "\n",
        "from sklearn.preprocessing import LabelEncoder\n",
        "import pickle\n",
        "import numpy as np\n",
        "from sklearn.model_selection import train_test_split\n",
        "\n",
        "import nltk.corpus\n",
        "import string\n",
        "from nltk.tokenize import word_tokenize,sent_tokenize\n",
        "from nltk.stem import WordNetLemmatizer\n",
        "\n",
        "from keras.layers import Embedding\n",
        "\n",
        "import time"
      ],
      "execution_count": 82,
      "outputs": [
        {
          "output_type": "stream",
          "text": [
            "[nltk_data] Downloading collection 'popular'\n",
            "[nltk_data]    | \n",
            "[nltk_data]    | Downloading package cmudict to /root/nltk_data...\n",
            "[nltk_data]    |   Package cmudict is already up-to-date!\n",
            "[nltk_data]    | Downloading package gazetteers to /root/nltk_data...\n",
            "[nltk_data]    |   Package gazetteers is already up-to-date!\n",
            "[nltk_data]    | Downloading package genesis to /root/nltk_data...\n",
            "[nltk_data]    |   Package genesis is already up-to-date!\n",
            "[nltk_data]    | Downloading package gutenberg to /root/nltk_data...\n",
            "[nltk_data]    |   Package gutenberg is already up-to-date!\n",
            "[nltk_data]    | Downloading package inaugural to /root/nltk_data...\n",
            "[nltk_data]    |   Package inaugural is already up-to-date!\n",
            "[nltk_data]    | Downloading package movie_reviews to\n",
            "[nltk_data]    |     /root/nltk_data...\n",
            "[nltk_data]    |   Package movie_reviews is already up-to-date!\n",
            "[nltk_data]    | Downloading package names to /root/nltk_data...\n",
            "[nltk_data]    |   Package names is already up-to-date!\n",
            "[nltk_data]    | Downloading package shakespeare to /root/nltk_data...\n",
            "[nltk_data]    |   Package shakespeare is already up-to-date!\n",
            "[nltk_data]    | Downloading package stopwords to /root/nltk_data...\n",
            "[nltk_data]    |   Package stopwords is already up-to-date!\n",
            "[nltk_data]    | Downloading package treebank to /root/nltk_data...\n",
            "[nltk_data]    |   Package treebank is already up-to-date!\n",
            "[nltk_data]    | Downloading package twitter_samples to\n",
            "[nltk_data]    |     /root/nltk_data...\n",
            "[nltk_data]    |   Package twitter_samples is already up-to-date!\n",
            "[nltk_data]    | Downloading package omw to /root/nltk_data...\n",
            "[nltk_data]    |   Package omw is already up-to-date!\n",
            "[nltk_data]    | Downloading package wordnet to /root/nltk_data...\n",
            "[nltk_data]    |   Package wordnet is already up-to-date!\n",
            "[nltk_data]    | Downloading package wordnet_ic to /root/nltk_data...\n",
            "[nltk_data]    |   Package wordnet_ic is already up-to-date!\n",
            "[nltk_data]    | Downloading package words to /root/nltk_data...\n",
            "[nltk_data]    |   Package words is already up-to-date!\n",
            "[nltk_data]    | Downloading package maxent_ne_chunker to\n",
            "[nltk_data]    |     /root/nltk_data...\n",
            "[nltk_data]    |   Package maxent_ne_chunker is already up-to-date!\n",
            "[nltk_data]    | Downloading package punkt to /root/nltk_data...\n",
            "[nltk_data]    |   Package punkt is already up-to-date!\n",
            "[nltk_data]    | Downloading package snowball_data to\n",
            "[nltk_data]    |     /root/nltk_data...\n",
            "[nltk_data]    |   Package snowball_data is already up-to-date!\n",
            "[nltk_data]    | Downloading package averaged_perceptron_tagger to\n",
            "[nltk_data]    |     /root/nltk_data...\n",
            "[nltk_data]    |   Package averaged_perceptron_tagger is already up-\n",
            "[nltk_data]    |       to-date!\n",
            "[nltk_data]    | \n",
            "[nltk_data]  Done downloading collection popular\n"
          ],
          "name": "stdout"
        }
      ]
    },
    {
      "metadata": {
        "id": "z8c7Ay-J7Qwh",
        "colab_type": "code",
        "colab": {}
      },
      "cell_type": "code",
      "source": [
        "!cp gdrive/'My Drive'/bbc-fulltext.zip .\n",
        "!cp gdrive/'My Drive'/glove.6B.zip .\n",
        "!unzip bbc-fulltext.zip > out.txt\n",
        "!rm bbc/README.TXT\n",
        "!unzip glove.6B.zip"
      ],
      "execution_count": 0,
      "outputs": []
    },
    {
      "metadata": {
        "id": "Ew62XD1v790p",
        "colab_type": "code",
        "outputId": "af28a63c-aa70-476a-b86f-532525392f9a",
        "colab": {
          "base_uri": "https://localhost:8080/",
          "height": 198
        }
      },
      "cell_type": "code",
      "source": [
        "#Read Data\n",
        "categories = ['business','entertainment','politics','sport','tech']\n",
        "df = pd.DataFrame([],columns=['category','id','text'])\n",
        "for cat in categories:\n",
        "  for file in os.listdir(\"bbc/\"+cat):\n",
        "      if file.endswith(\".txt\"):\n",
        "          filepath = os.path.join(\"bbc/\"+cat, file)\n",
        "          text = open(filepath,'r', errors='ignore').read()\n",
        "          s = pd.Series([cat,int(filepath.split('/')[-1][:-4]),text],index=['category','id','text'])\n",
        "          df = df.append(s,ignore_index=True)\n",
        "\n",
        "df.head()"
      ],
      "execution_count": 3,
      "outputs": [
        {
          "output_type": "execute_result",
          "data": {
            "text/html": [
              "<div>\n",
              "<style scoped>\n",
              "    .dataframe tbody tr th:only-of-type {\n",
              "        vertical-align: middle;\n",
              "    }\n",
              "\n",
              "    .dataframe tbody tr th {\n",
              "        vertical-align: top;\n",
              "    }\n",
              "\n",
              "    .dataframe thead th {\n",
              "        text-align: right;\n",
              "    }\n",
              "</style>\n",
              "<table border=\"1\" class=\"dataframe\">\n",
              "  <thead>\n",
              "    <tr style=\"text-align: right;\">\n",
              "      <th></th>\n",
              "      <th>category</th>\n",
              "      <th>id</th>\n",
              "      <th>text</th>\n",
              "    </tr>\n",
              "  </thead>\n",
              "  <tbody>\n",
              "    <tr>\n",
              "      <th>0</th>\n",
              "      <td>business</td>\n",
              "      <td>386</td>\n",
              "      <td>Krispy Kreme shares hit\\n\\nShares in Krispy Kr...</td>\n",
              "    </tr>\n",
              "    <tr>\n",
              "      <th>1</th>\n",
              "      <td>business</td>\n",
              "      <td>190</td>\n",
              "      <td>Consumers drive French economy\\n\\nFrance's eco...</td>\n",
              "    </tr>\n",
              "    <tr>\n",
              "      <th>2</th>\n",
              "      <td>business</td>\n",
              "      <td>439</td>\n",
              "      <td>German economy rebounds\\n\\nGermany's economy, ...</td>\n",
              "    </tr>\n",
              "    <tr>\n",
              "      <th>3</th>\n",
              "      <td>business</td>\n",
              "      <td>454</td>\n",
              "      <td>LSE doubts boost bidders' shares\\n\\nShares in ...</td>\n",
              "    </tr>\n",
              "    <tr>\n",
              "      <th>4</th>\n",
              "      <td>business</td>\n",
              "      <td>302</td>\n",
              "      <td>Cactus diet deal for Phytopharm\\n\\nA slimming ...</td>\n",
              "    </tr>\n",
              "  </tbody>\n",
              "</table>\n",
              "</div>"
            ],
            "text/plain": [
              "   category   id                                               text\n",
              "0  business  386  Krispy Kreme shares hit\\n\\nShares in Krispy Kr...\n",
              "1  business  190  Consumers drive French economy\\n\\nFrance's eco...\n",
              "2  business  439  German economy rebounds\\n\\nGermany's economy, ...\n",
              "3  business  454  LSE doubts boost bidders' shares\\n\\nShares in ...\n",
              "4  business  302  Cactus diet deal for Phytopharm\\n\\nA slimming ..."
            ]
          },
          "metadata": {
            "tags": []
          },
          "execution_count": 3
        }
      ]
    },
    {
      "metadata": {
        "id": "uZXIyNwn8tT3",
        "colab_type": "code",
        "outputId": "a459248a-5f9c-476f-fd07-1069f9ea6349",
        "colab": {
          "base_uri": "https://localhost:8080/",
          "height": 55
        }
      },
      "cell_type": "code",
      "source": [
        "'''\n",
        "#WordCloud\n",
        "cat = df['category'].unique()\n",
        "\n",
        "for i in range(0,len(cat)):\n",
        "    words = ' '.join(df.loc[df['category']==cat[i], 'text'])\n",
        "\n",
        "    wordcloud = WordCloud( \n",
        "                          stopwords=STOPWORDS,\n",
        "                          background_color='white',\n",
        "                          width=800,\n",
        "                          height=400\n",
        "                ).generate(words)\n",
        "    print(cat[i])\n",
        "    plt.figure(figsize=(10, 5))\n",
        "    plt.imshow(wordcloud)\n",
        "    plt.axis('off')\n",
        "    plt.show()\n",
        "\n",
        "words = ' '.join(df.loc[:, 'text'])\n",
        "\n",
        "wordcloud = WordCloud( \n",
        "                      stopwords=STOPWORDS,\n",
        "                      background_color='white',\n",
        "                      width=800,\n",
        "                      height=400\n",
        "            ).generate(words)\n",
        "print(\"ALL Categories:\")\n",
        "plt.figure(figsize=(10, 5))\n",
        "plt.imshow(wordcloud)\n",
        "plt.axis('off')\n",
        "plt.show()\n",
        "'''"
      ],
      "execution_count": 4,
      "outputs": [
        {
          "output_type": "execute_result",
          "data": {
            "text/plain": [
              "'\\n#WordCloud\\ncat = df[\\'category\\'].unique()\\n\\nfor i in range(0,len(cat)):\\n    words = \\' \\'.join(df.loc[df[\\'category\\']==cat[i], \\'text\\'])\\n\\n    wordcloud = WordCloud( \\n                          stopwords=STOPWORDS,\\n                          background_color=\\'white\\',\\n                          width=800,\\n                          height=400\\n                ).generate(words)\\n    print(cat[i])\\n    plt.figure(figsize=(10, 5))\\n    plt.imshow(wordcloud)\\n    plt.axis(\\'off\\')\\n    plt.show()\\n\\nwords = \\' \\'.join(df.loc[:, \\'text\\'])\\n\\nwordcloud = WordCloud( \\n                      stopwords=STOPWORDS,\\n                      background_color=\\'white\\',\\n                      width=800,\\n                      height=400\\n            ).generate(words)\\nprint(\"ALL Categories:\")\\nplt.figure(figsize=(10, 5))\\nplt.imshow(wordcloud)\\nplt.axis(\\'off\\')\\nplt.show()\\n'"
            ]
          },
          "metadata": {
            "tags": []
          },
          "execution_count": 4
        }
      ]
    },
    {
      "metadata": {
        "id": "JR2fsHlbr_Tj",
        "colab_type": "text"
      },
      "cell_type": "markdown",
      "source": [
        "## Label Encoder\n",
        "#### Use inverse_transform at the end after predicting"
      ]
    },
    {
      "metadata": {
        "id": "385fGoXNldB0",
        "colab_type": "code",
        "outputId": "cac8f4ef-2190-4e28-bf18-0b537db95d84",
        "colab": {
          "base_uri": "https://localhost:8080/",
          "height": 138
        }
      },
      "cell_type": "code",
      "source": [
        "y = df['category']\n",
        "X = df.drop(['category','id'],axis=1)\n",
        "X_train, X_test, y_train, y_test  = train_test_split(X,y,stratify=y, test_size=0.2, random_state=123)\n",
        "X_train = X_train.reset_index(drop=True)\n",
        "X_test = X_test.reset_index(drop=True)\n",
        "y_test = y_test.reset_index(drop=True)\n",
        "\n",
        "print('before: %s ...' %y_train[:5])\n",
        "\n",
        "le = LabelEncoder()\n",
        "le.fit(y_train)\n",
        "y_train = le.transform(y_train)\n",
        "\n",
        "print('after: %s ...' %y_train)"
      ],
      "execution_count": 5,
      "outputs": [
        {
          "output_type": "stream",
          "text": [
            "before: 1508       sport\n",
            "1908        tech\n",
            "2104        tech\n",
            "2019        tech\n",
            "1245    politics\n",
            "Name: category, dtype: object ...\n",
            "after: [3 4 4 ... 1 0 2] ...\n"
          ],
          "name": "stdout"
        }
      ]
    },
    {
      "metadata": {
        "id": "n9jqvQtYDhR0",
        "colab_type": "code",
        "outputId": "6f0084e2-be0e-49ac-9876-cad5178f7cb8",
        "colab": {
          "base_uri": "https://localhost:8080/",
          "height": 155
        }
      },
      "cell_type": "code",
      "source": [
        "print(np.bincount(y_train))\n",
        "print(y.value_counts())\n",
        "print(le.inverse_transform([i for i in range(5)]))"
      ],
      "execution_count": 6,
      "outputs": [
        {
          "output_type": "stream",
          "text": [
            "[408 309 333 409 321]\n",
            "sport            511\n",
            "business         510\n",
            "politics         417\n",
            "tech             401\n",
            "entertainment    386\n",
            "Name: category, dtype: int64\n",
            "['business' 'entertainment' 'politics' 'sport' 'tech']\n"
          ],
          "name": "stdout"
        }
      ]
    },
    {
      "metadata": {
        "id": "1e6g_BjOsZ3i",
        "colab_type": "text"
      },
      "cell_type": "markdown",
      "source": [
        "## Preprocess Data - (split by \\n, remove periods, remove slashes)"
      ]
    },
    {
      "metadata": {
        "id": "_3Iv6MC3s26i",
        "colab_type": "code",
        "colab": {}
      },
      "cell_type": "code",
      "source": [
        "def preprocess(X):\n",
        "  return X.map(lambda x: x.lower().split(\"\\n\")).map(lambda x: [y.split(\". \") for y in x]).map(lambda x: [i.replace('\\'','') for sl in x for i in sl if i is not ''])"
      ],
      "execution_count": 0,
      "outputs": []
    },
    {
      "metadata": {
        "id": "6EgQMq_CtK8d",
        "colab_type": "code",
        "colab": {}
      },
      "cell_type": "code",
      "source": [
        "#Preprocess both train and test separately\n",
        "X_train['text'] = preprocess(X_train['text'])\n",
        "X_test['text'] = preprocess(X_test['text'])"
      ],
      "execution_count": 0,
      "outputs": []
    },
    {
      "metadata": {
        "id": "Wme2RkYu2UR0",
        "colab_type": "code",
        "colab": {}
      },
      "cell_type": "code",
      "source": [
        "#Stop Words and Lemmatization   \n",
        "lemmatizer = WordNetLemmatizer()\n",
        "stopw = nltk.corpus.stopwords.words('english')\n",
        "punct = string.punctuation\n",
        "punct = word_tokenize(punct)\n",
        "punct += ['.','``','...','\\'s','--','-','n\\'t','\\'']\n",
        "stopw += punct\n",
        "def token_stop(text):\n",
        "    global stopw\n",
        "    global lemmatizer\n",
        "    words = word_tokenize(text)\n",
        "    filtered = [lemmatizer.lemmatize(w) for w in words if not w in stopw]\n",
        "    return filtered\n",
        "  \n",
        "X_train['text'] = X_train['text'].map(lambda x: [token_stop(i) for i in x]).map(lambda x: [i for sl in x for i in sl])\n",
        "X_test['text'] = X_test['text'].map(lambda x: [token_stop(i) for i in x]).map(lambda x: [i for sl in x for i in sl])"
      ],
      "execution_count": 0,
      "outputs": []
    },
    {
      "metadata": {
        "id": "fHKBz-DG8HTu",
        "colab_type": "code",
        "colab": {}
      },
      "cell_type": "code",
      "source": [
        "texts = np.array(X_train['text'])\n",
        "test_text = np.array(X_test['text'])"
      ],
      "execution_count": 0,
      "outputs": []
    },
    {
      "metadata": {
        "id": "sLe602IIEqV6",
        "colab_type": "code",
        "outputId": "a4ec4fc8-4200-4688-c495-efe526390ff3",
        "colab": {
          "base_uri": "https://localhost:8080/",
          "height": 35
        }
      },
      "cell_type": "code",
      "source": [
        "MAX_SEQUENCE_LENGTH = 1000\n",
        "MAX_NB_WORDS = 20000\n",
        "EMBEDDING_DIM = 100\n",
        "VALIDATION_SPLIT = 0.2\n",
        "embeddings_index = {}\n",
        "with open('glove.6B.100d.txt') as f:\n",
        "    for line in f:\n",
        "        word, coefs = line.split(maxsplit=1)\n",
        "        coefs = np.fromstring(coefs, 'f', sep=' ')\n",
        "        embeddings_index[word] = coefs\n",
        "\n",
        "print('Found %s word vectors.' % len(embeddings_index))"
      ],
      "execution_count": 11,
      "outputs": [
        {
          "output_type": "stream",
          "text": [
            "Found 400000 word vectors.\n"
          ],
          "name": "stdout"
        }
      ]
    },
    {
      "metadata": {
        "id": "9thZOjdY_Sl6",
        "colab_type": "code",
        "outputId": "991f0b8f-0b2f-4c89-af7c-a433cbf5410a",
        "colab": {
          "base_uri": "https://localhost:8080/",
          "height": 124
        }
      },
      "cell_type": "code",
      "source": [
        "tokenizer = Tokenizer(nb_words=MAX_NB_WORDS)\n",
        "tokenizer.fit_on_texts(texts)\n",
        "sequences = tokenizer.texts_to_sequences(texts)\n",
        "\n",
        "word_index = tokenizer.word_index\n",
        "print('Found %s unique tokens.' % len(word_index))\n",
        "\n",
        "data = pad_sequences(sequences, maxlen=MAX_SEQUENCE_LENGTH)\n",
        "\n",
        "labels = to_categorical(np.asarray(y_train))\n",
        "print('Shape of data tensor:', data.shape)\n",
        "print('Shape of label tensor:', labels.shape)\n",
        "\n",
        "# split the data into a training set and a validation set\n",
        "np.random.seed(123)\n",
        "indices = np.arange(data.shape[0])\n",
        "np.random.shuffle(indices)\n",
        "data = data[indices]\n",
        "labels = labels[indices]\n",
        "nb_validation_samples = int(VALIDATION_SPLIT * data.shape[0])\n",
        "\n",
        "xtrain = data[:-nb_validation_samples]\n",
        "ytrain = labels[:-nb_validation_samples]\n",
        "xval = data[-nb_validation_samples:]\n",
        "yval = labels[-nb_validation_samples:]"
      ],
      "execution_count": 12,
      "outputs": [
        {
          "output_type": "stream",
          "text": [
            "/usr/local/lib/python3.6/dist-packages/keras_preprocessing/text.py:178: UserWarning: The `nb_words` argument in `Tokenizer` has been renamed `num_words`.\n",
            "  warnings.warn('The `nb_words` argument in `Tokenizer` '\n"
          ],
          "name": "stderr"
        },
        {
          "output_type": "stream",
          "text": [
            "Found 28841 unique tokens.\n",
            "Shape of data tensor: (1780, 1000)\n",
            "Shape of label tensor: (1780, 5)\n"
          ],
          "name": "stdout"
        }
      ]
    },
    {
      "metadata": {
        "id": "VofHdiAqIRqc",
        "colab_type": "code",
        "colab": {}
      },
      "cell_type": "code",
      "source": [
        "#Create glove embedding matrix\n",
        "embedding_matrix = np.zeros((len(word_index) + 1, EMBEDDING_DIM))\n",
        "for word, i in word_index.items():\n",
        "    embedding_vector = embeddings_index.get(word)\n",
        "    if embedding_vector is not None:\n",
        "        # words not found in embedding index will be all-zeros.\n",
        "        embedding_matrix[i] = embedding_vector"
      ],
      "execution_count": 0,
      "outputs": []
    },
    {
      "metadata": {
        "id": "o3yooq2DI-dT",
        "colab_type": "code",
        "colab": {}
      },
      "cell_type": "code",
      "source": [
        "#Keras Glove Embedding layer\n",
        "embedding_layer = Embedding(len(word_index) + 1,\n",
        "                            EMBEDDING_DIM,\n",
        "                            weights=[embedding_matrix],\n",
        "                            input_length=MAX_SEQUENCE_LENGTH,\n",
        "                            trainable=False)"
      ],
      "execution_count": 0,
      "outputs": []
    },
    {
      "metadata": {
        "id": "iuZyVOsKKD6T",
        "colab_type": "code",
        "outputId": "2b3edd6a-c1cc-4d21-99e0-ba8628e5c915",
        "colab": {
          "base_uri": "https://localhost:8080/",
          "height": 35
        }
      },
      "cell_type": "code",
      "source": [
        "#Map label name to its index\n",
        "labels_index = {}\n",
        "for i in range(5):\n",
        "  name = le.inverse_transform([i])[0]\n",
        "  labels_index[name] = i\n",
        "labels_index"
      ],
      "execution_count": 16,
      "outputs": [
        {
          "output_type": "execute_result",
          "data": {
            "text/plain": [
              "{'business': 0, 'entertainment': 1, 'politics': 2, 'sport': 3, 'tech': 4}"
            ]
          },
          "metadata": {
            "tags": []
          },
          "execution_count": 16
        }
      ]
    },
    {
      "metadata": {
        "id": "e18TBVrC9iwT",
        "colab_type": "text"
      },
      "cell_type": "markdown",
      "source": [
        "## Train Model"
      ]
    },
    {
      "metadata": {
        "id": "ijGeDWg6-XsZ",
        "colab_type": "code",
        "colab": {}
      },
      "cell_type": "code",
      "source": [
        "model_name = \"CNN\"\n",
        "checkpointer = ModelCheckpoint(model_name + \"_weights.{epoch:02d}-{val_loss:.2f}.hdf5\", monitor=\"val_loss\", verbose=1,\n",
        "                               save_best_only=True, mode='min')\n",
        "early_stopping = EarlyStopping(monitor='val_loss', min_delta=0, patience=10, verbose=1, mode='auto')"
      ],
      "execution_count": 0,
      "outputs": []
    },
    {
      "metadata": {
        "id": "53s9TZ_mI_XY",
        "colab_type": "code",
        "colab": {}
      },
      "cell_type": "code",
      "source": [
        "sequence_input = Input(shape=(MAX_SEQUENCE_LENGTH,), dtype='int32')\n",
        "embedded_sequences = embedding_layer(sequence_input)\n",
        "x = Conv1D(128, 5, activation='relu')(embedded_sequences)\n",
        "x = MaxPooling1D(5)(x)\n",
        "x = Dropout(0.2)(x)\n",
        "x = Conv1D(128, 5, activation='relu')(x)\n",
        "x = MaxPooling1D(5)(x)\n",
        "x = Dropout(0.2)(x)\n",
        "x = Conv1D(128, 5, activation='relu')(x)\n",
        "x = MaxPooling1D(35)(x)  # global max pooling\n",
        "x = Dropout(0.2)(x)\n",
        "x = Flatten()(x)\n",
        "x = Dense(128, activation='relu')(x)\n",
        "preds = Dense(len(labels_index), activation='softmax')(x)\n",
        "\n",
        "model = Model(sequence_input, preds)\n",
        "model.compile(loss='categorical_crossentropy',\n",
        "              optimizer='rmsprop',\n",
        "              metrics=['acc'])"
      ],
      "execution_count": 0,
      "outputs": []
    },
    {
      "metadata": {
        "id": "Fp3SQDq3-tfj",
        "colab_type": "code",
        "colab": {
          "base_uri": "https://localhost:8080/",
          "height": 1796
        },
        "outputId": "7a75cc63-4725-4d6c-f37c-dc6a91e8435e"
      },
      "cell_type": "code",
      "source": [
        "stmillis = int(round(time.time() * 1000))\n",
        "history = model.fit(xtrain, ytrain, validation_data=(xval, yval),\n",
        "          epochs=50, batch_size=128, callbacks=[checkpointer, early_stopping])\n",
        "endmillis = int(round(time.time() * 1000))\n",
        "print(\"Time taken: \", endmillis - stmillis)"
      ],
      "execution_count": 46,
      "outputs": [
        {
          "output_type": "stream",
          "text": [
            "Train on 1424 samples, validate on 356 samples\n",
            "Epoch 1/50\n",
            "1424/1424 [==============================] - 16s 12ms/step - loss: 1.6922 - acc: 0.3385 - val_loss: 1.1786 - val_acc: 0.4270\n",
            "\n",
            "Epoch 00001: val_loss did not improve from 0.08955\n",
            "Epoch 2/50\n",
            "1424/1424 [==============================] - 16s 11ms/step - loss: 0.8821 - acc: 0.6524 - val_loss: 0.7998 - val_acc: 0.6601\n",
            "\n",
            "Epoch 00002: val_loss did not improve from 0.08955\n",
            "Epoch 3/50\n",
            "1424/1424 [==============================] - 16s 11ms/step - loss: 0.4334 - acc: 0.8455 - val_loss: 0.4807 - val_acc: 0.8371\n",
            "\n",
            "Epoch 00003: val_loss did not improve from 0.08955\n",
            "Epoch 4/50\n",
            "1424/1424 [==============================] - 16s 11ms/step - loss: 0.2342 - acc: 0.9199 - val_loss: 1.0553 - val_acc: 0.6292\n",
            "\n",
            "Epoch 00004: val_loss did not improve from 0.08955\n",
            "Epoch 5/50\n",
            "1424/1424 [==============================] - 16s 11ms/step - loss: 0.2996 - acc: 0.9024 - val_loss: 0.8322 - val_acc: 0.7697\n",
            "\n",
            "Epoch 00005: val_loss did not improve from 0.08955\n",
            "Epoch 6/50\n",
            "1424/1424 [==============================] - 16s 11ms/step - loss: 0.2137 - acc: 0.9368 - val_loss: 0.1800 - val_acc: 0.9438\n",
            "\n",
            "Epoch 00006: val_loss did not improve from 0.08955\n",
            "Epoch 7/50\n",
            "1424/1424 [==============================] - 16s 11ms/step - loss: 0.1500 - acc: 0.9466 - val_loss: 0.1296 - val_acc: 0.9607\n",
            "\n",
            "Epoch 00007: val_loss did not improve from 0.08955\n",
            "Epoch 8/50\n",
            "1424/1424 [==============================] - 16s 11ms/step - loss: 0.1146 - acc: 0.9593 - val_loss: 0.0904 - val_acc: 0.9747\n",
            "\n",
            "Epoch 00008: val_loss did not improve from 0.08955\n",
            "Epoch 9/50\n",
            "1424/1424 [==============================] - 16s 11ms/step - loss: 0.1481 - acc: 0.9515 - val_loss: 0.1155 - val_acc: 0.9635\n",
            "\n",
            "Epoch 00009: val_loss did not improve from 0.08955\n",
            "Epoch 10/50\n",
            "1424/1424 [==============================] - 16s 11ms/step - loss: 0.0644 - acc: 0.9838 - val_loss: 0.0934 - val_acc: 0.9747\n",
            "\n",
            "Epoch 00010: val_loss did not improve from 0.08955\n",
            "Epoch 11/50\n",
            "1424/1424 [==============================] - 16s 11ms/step - loss: 0.1290 - acc: 0.9572 - val_loss: 0.1228 - val_acc: 0.9663\n",
            "\n",
            "Epoch 00011: val_loss did not improve from 0.08955\n",
            "Epoch 12/50\n",
            "1424/1424 [==============================] - 16s 11ms/step - loss: 0.0443 - acc: 0.9853 - val_loss: 0.0855 - val_acc: 0.9719\n",
            "\n",
            "Epoch 00012: val_loss improved from 0.08955 to 0.08546, saving model to CNN_weights.12-0.09.hdf5\n",
            "Epoch 13/50\n",
            "1424/1424 [==============================] - 16s 11ms/step - loss: 0.0495 - acc: 0.9838 - val_loss: 0.0829 - val_acc: 0.9775\n",
            "\n",
            "Epoch 00013: val_loss improved from 0.08546 to 0.08288, saving model to CNN_weights.13-0.08.hdf5\n",
            "Epoch 14/50\n",
            "1424/1424 [==============================] - 16s 11ms/step - loss: 0.0836 - acc: 0.9782 - val_loss: 0.1004 - val_acc: 0.9775\n",
            "\n",
            "Epoch 00014: val_loss did not improve from 0.08288\n",
            "Epoch 15/50\n",
            "1424/1424 [==============================] - 16s 11ms/step - loss: 0.0183 - acc: 0.9965 - val_loss: 0.0825 - val_acc: 0.9803\n",
            "\n",
            "Epoch 00015: val_loss improved from 0.08288 to 0.08252, saving model to CNN_weights.15-0.08.hdf5\n",
            "Epoch 16/50\n",
            "1424/1424 [==============================] - 16s 11ms/step - loss: 0.0271 - acc: 0.9902 - val_loss: 0.2016 - val_acc: 0.9494\n",
            "\n",
            "Epoch 00016: val_loss did not improve from 0.08252\n",
            "Epoch 17/50\n",
            "1424/1424 [==============================] - 16s 11ms/step - loss: 0.0155 - acc: 0.9937 - val_loss: 0.1169 - val_acc: 0.9775\n",
            "\n",
            "Epoch 00017: val_loss did not improve from 0.08252\n",
            "Epoch 18/50\n",
            "1424/1424 [==============================] - 16s 11ms/step - loss: 0.0471 - acc: 0.9874 - val_loss: 0.3696 - val_acc: 0.9270\n",
            "\n",
            "Epoch 00018: val_loss did not improve from 0.08252\n",
            "Epoch 19/50\n",
            "1424/1424 [==============================] - 16s 11ms/step - loss: 0.0228 - acc: 0.9937 - val_loss: 0.0938 - val_acc: 0.9719\n",
            "\n",
            "Epoch 00019: val_loss did not improve from 0.08252\n",
            "Epoch 20/50\n",
            "1424/1424 [==============================] - 16s 11ms/step - loss: 0.0050 - acc: 0.9986 - val_loss: 0.0981 - val_acc: 0.9747\n",
            "\n",
            "Epoch 00020: val_loss did not improve from 0.08252\n",
            "Epoch 21/50\n",
            "1424/1424 [==============================] - 16s 11ms/step - loss: 0.0334 - acc: 0.9916 - val_loss: 0.1588 - val_acc: 0.9747\n",
            "\n",
            "Epoch 00021: val_loss did not improve from 0.08252\n",
            "Epoch 22/50\n",
            "1424/1424 [==============================] - 16s 11ms/step - loss: 0.0074 - acc: 0.9986 - val_loss: 0.1112 - val_acc: 0.9719\n",
            "\n",
            "Epoch 00022: val_loss did not improve from 0.08252\n",
            "Epoch 23/50\n",
            "1424/1424 [==============================] - 16s 11ms/step - loss: 0.0015 - acc: 1.0000 - val_loss: 0.1079 - val_acc: 0.9803\n",
            "\n",
            "Epoch 00023: val_loss did not improve from 0.08252\n",
            "Epoch 24/50\n",
            "1424/1424 [==============================] - 16s 11ms/step - loss: 0.1670 - acc: 0.9754 - val_loss: 0.1766 - val_acc: 0.9635\n",
            "\n",
            "Epoch 00024: val_loss did not improve from 0.08252\n",
            "Epoch 25/50\n",
            "1424/1424 [==============================] - 16s 11ms/step - loss: 0.0042 - acc: 0.9986 - val_loss: 0.1196 - val_acc: 0.9803\n",
            "\n",
            "Epoch 00025: val_loss did not improve from 0.08252\n",
            "Epoch 00025: early stopping\n",
            "Time taken:  398997\n"
          ],
          "name": "stdout"
        }
      ]
    },
    {
      "metadata": {
        "id": "Z73Z42jPBsd3",
        "colab_type": "code",
        "colab": {
          "base_uri": "https://localhost:8080/",
          "height": 303
        },
        "outputId": "251c7973-ba9f-44c8-c231-8a24efb7311e"
      },
      "cell_type": "code",
      "source": [
        "fig=plt.figure()\n",
        "plt.plot(history.history['acc'],'r',linewidth=3.0)\n",
        "plt.plot(history.history['val_acc'],'b',linewidth=3.0)\n",
        "plt.legend(['Training Accuracy', 'Validation Accuracy'],fontsize=18)\n",
        "plt.xlabel('Epochs ',fontsize=16)\n",
        "plt.ylabel('Accuracy',fontsize=16)\n",
        "plt.title('Accuracy Curves : CNN',fontsize=16)\n",
        "fig.savefig('accuracy_cnn.png')\n",
        "plt.show()"
      ],
      "execution_count": 47,
      "outputs": [
        {
          "output_type": "display_data",
          "data": {
            "image/png": "[encoded data removed]",
            "text/plain": [
              "<Figure size 432x288 with 1 Axes>"
            ]
          },
          "metadata": {
            "tags": []
          }
        }
      ]
    },
    {
      "metadata": {
        "id": "8nUIMMQi_KrR",
        "colab_type": "code",
        "colab": {}
      },
      "cell_type": "code",
      "source": [
        "# Save the trained weights\n",
        "model.save(model_name + \".h5\")\n",
        "\n",
        "# Save model config as json\n",
        "model_json = model.to_json()\n",
        "with open(model_name + \".json\", \"w\") as json_file:\n",
        "    json_file.write(model_json)\n",
        "\n",
        "# Persist the model to your google drive [VERY IMPORTANT]\n",
        "!cp CNN.* gdrive/My\\ Drive/"
      ],
      "execution_count": 0,
      "outputs": []
    },
    {
      "metadata": {
        "id": "7BAwr4x19nMo",
        "colab_type": "text"
      },
      "cell_type": "markdown",
      "source": [
        "## Predict on Test Data"
      ]
    },
    {
      "metadata": {
        "id": "vIBlzM5zFVhG",
        "colab_type": "code",
        "colab": {}
      },
      "cell_type": "code",
      "source": [
        "def find_test_acc(prediction):\n",
        "  count = 0\n",
        "  t = 0\n",
        "  for pred in prediction:\n",
        "    p = pred.argmax()\n",
        "    name = le.inverse_transform([p])\n",
        "    if name == y_test.loc[count]:\n",
        "      t+=1\n",
        "    count+=1\n",
        "  print('Test Accuracy:',(t/count)*100,\"%\")"
      ],
      "execution_count": 0,
      "outputs": []
    },
    {
      "metadata": {
        "id": "1sM8QeKfJgRr",
        "colab_type": "code",
        "colab": {}
      },
      "cell_type": "code",
      "source": [
        "def predict_test(model):\n",
        "  #Tokenize test data and apply model prediction\n",
        "  sequences = tokenizer.texts_to_sequences(test_text)\n",
        "  data = pad_sequences(sequences, maxlen=MAX_SEQUENCE_LENGTH)\n",
        "\n",
        "  print('Shape of data tensor:', data.shape)\n",
        "  print('Shape of label tensor:', labels.shape)\n",
        "  prediction = model.predict(data)\n",
        "  find_test_acc(prediction)"
      ],
      "execution_count": 0,
      "outputs": []
    },
    {
      "metadata": {
        "id": "u_z5eMImMj57",
        "colab_type": "code",
        "outputId": "62abb499-df73-4934-a930-1517dbc5456c",
        "colab": {
          "base_uri": "https://localhost:8080/",
          "height": 69
        }
      },
      "cell_type": "code",
      "source": [
        "predict_test(model)"
      ],
      "execution_count": 62,
      "outputs": [
        {
          "output_type": "stream",
          "text": [
            "Shape of data tensor: (445, 1000)\n",
            "Shape of label tensor: (1780, 5)\n",
            "Test Accuracy: 98.87640449438202 %\n"
          ],
          "name": "stdout"
        }
      ]
    },
    {
      "metadata": {
        "id": "p9D32NrbEPsU",
        "colab_type": "text"
      },
      "cell_type": "markdown",
      "source": [
        "# RNN"
      ]
    },
    {
      "metadata": {
        "id": "NjPmDH75ERKA",
        "colab_type": "code",
        "colab": {}
      },
      "cell_type": "code",
      "source": [
        "sequence_input = Input(shape=(MAX_SEQUENCE_LENGTH,), dtype='int32')\n",
        "embedded_sequences = embedding_layer(sequence_input)\n",
        "x = SpatialDropout1D(0.2)(embedded_sequences)\n",
        "x = LSTM(100,dropout=0.2, recurrent_dropout=0.2)(x)\n",
        "preds = Dense(len(labels_index), activation='softmax')(x)\n",
        "lstm_model = Model(sequence_input, preds)\n",
        "lstm_model.compile(loss='categorical_crossentropy',\n",
        "              optimizer='rmsprop',\n",
        "              metrics=['acc'])"
      ],
      "execution_count": 0,
      "outputs": []
    },
    {
      "metadata": {
        "id": "dnLCsXllMNzi",
        "colab_type": "code",
        "colab": {
          "base_uri": "https://localhost:8080/",
          "height": 311
        },
        "outputId": "a10b9a50-9450-4ac4-9676-9ccd0915b819"
      },
      "cell_type": "code",
      "source": [
        "lstm_model.summary()"
      ],
      "execution_count": 84,
      "outputs": [
        {
          "output_type": "stream",
          "text": [
            "_________________________________________________________________\n",
            "Layer (type)                 Output Shape              Param #   \n",
            "=================================================================\n",
            "input_13 (InputLayer)        (None, 1000)              0         \n",
            "_________________________________________________________________\n",
            "embedding_1 (Embedding)      (None, 1000, 100)         2884200   \n",
            "_________________________________________________________________\n",
            "spatial_dropout1d_3 (Spatial (None, 1000, 100)         0         \n",
            "_________________________________________________________________\n",
            "lstm_5 (LSTM)                (None, 100)               80400     \n",
            "_________________________________________________________________\n",
            "dense_16 (Dense)             (None, 5)                 505       \n",
            "=================================================================\n",
            "Total params: 2,965,105\n",
            "Trainable params: 80,905\n",
            "Non-trainable params: 2,884,200\n",
            "_________________________________________________________________\n"
          ],
          "name": "stdout"
        }
      ]
    },
    {
      "metadata": {
        "id": "bbb9RTErE4wz",
        "colab_type": "code",
        "colab": {}
      },
      "cell_type": "code",
      "source": [
        "model_name = \"RNN\"\n",
        "checkpointer = ModelCheckpoint(model_name + \"_weights.{epoch:02d}-{val_loss:.2f}.hdf5\", monitor=\"val_loss\", verbose=1,\n",
        "                               save_best_only=True, mode='min')\n",
        "early_stopping = EarlyStopping(monitor='val_loss', min_delta=0, patience=10, verbose=1, mode='auto')\n",
        "tensorboard = TensorBoard(log_dir='/Graph', histogram_freq=0,write_graph=True, write_images=True)"
      ],
      "execution_count": 0,
      "outputs": []
    },
    {
      "metadata": {
        "id": "U9x73pzTEzaO",
        "colab_type": "code",
        "colab": {
          "base_uri": "https://localhost:8080/",
          "height": 2695
        },
        "outputId": "526c119d-8667-4470-ac11-1a31877777a1"
      },
      "cell_type": "code",
      "source": [
        "stmillis = int(round(time.time() * 1000))\n",
        "history = lstm_model.fit(xtrain, ytrain, validation_data=(xval, yval),\n",
        "          epochs=50, batch_size=128, callbacks=[checkpointer, early_stopping,tensorboard])\n",
        "endmillis = int(round(time.time() * 1000))\n",
        "print(\"Time taken: \", endmillis - stmillis)"
      ],
      "execution_count": 87,
      "outputs": [
        {
          "output_type": "stream",
          "text": [
            "Train on 1424 samples, validate on 356 samples\n",
            "Epoch 1/50\n",
            "1424/1424 [==============================] - 44s 31ms/step - loss: 1.3346 - acc: 0.5260 - val_loss: 0.7390 - val_acc: 0.7669\n",
            "\n",
            "Epoch 00001: val_loss improved from inf to 0.73901, saving model to RNN_weights.01-0.74.hdf5\n",
            "Epoch 2/50\n",
            "1424/1424 [==============================] - 43s 30ms/step - loss: 0.8155 - acc: 0.7177 - val_loss: 0.4868 - val_acc: 0.8483\n",
            "\n",
            "Epoch 00002: val_loss improved from 0.73901 to 0.48683, saving model to RNN_weights.02-0.49.hdf5\n",
            "Epoch 3/50\n",
            "1424/1424 [==============================] - 43s 30ms/step - loss: 0.6508 - acc: 0.7900 - val_loss: 0.3774 - val_acc: 0.8848\n",
            "\n",
            "Epoch 00003: val_loss improved from 0.48683 to 0.37741, saving model to RNN_weights.03-0.38.hdf5\n",
            "Epoch 4/50\n",
            "1424/1424 [==============================] - 43s 30ms/step - loss: 0.5510 - acc: 0.8272 - val_loss: 0.3632 - val_acc: 0.8792\n",
            "\n",
            "Epoch 00004: val_loss improved from 0.37741 to 0.36321, saving model to RNN_weights.04-0.36.hdf5\n",
            "Epoch 5/50\n",
            "1424/1424 [==============================] - 43s 30ms/step - loss: 0.5731 - acc: 0.8195 - val_loss: 0.3134 - val_acc: 0.9101\n",
            "\n",
            "Epoch 00005: val_loss improved from 0.36321 to 0.31342, saving model to RNN_weights.05-0.31.hdf5\n",
            "Epoch 6/50\n",
            "1424/1424 [==============================] - 43s 31ms/step - loss: 0.4640 - acc: 0.8469 - val_loss: 0.3016 - val_acc: 0.9213\n",
            "\n",
            "Epoch 00006: val_loss improved from 0.31342 to 0.30159, saving model to RNN_weights.06-0.30.hdf5\n",
            "Epoch 7/50\n",
            "1424/1424 [==============================] - 44s 31ms/step - loss: 0.4225 - acc: 0.8743 - val_loss: 0.2184 - val_acc: 0.9382\n",
            "\n",
            "Epoch 00007: val_loss improved from 0.30159 to 0.21837, saving model to RNN_weights.07-0.22.hdf5\n",
            "Epoch 8/50\n",
            "1424/1424 [==============================] - 43s 30ms/step - loss: 0.4024 - acc: 0.8701 - val_loss: 0.2385 - val_acc: 0.9354\n",
            "\n",
            "Epoch 00008: val_loss did not improve from 0.21837\n",
            "Epoch 9/50\n",
            "1424/1424 [==============================] - 43s 30ms/step - loss: 0.4308 - acc: 0.8610 - val_loss: 0.2084 - val_acc: 0.9522\n",
            "\n",
            "Epoch 00009: val_loss improved from 0.21837 to 0.20838, saving model to RNN_weights.09-0.21.hdf5\n",
            "Epoch 10/50\n",
            "1424/1424 [==============================] - 43s 30ms/step - loss: 0.3802 - acc: 0.8848 - val_loss: 0.2370 - val_acc: 0.9298\n",
            "\n",
            "Epoch 00010: val_loss did not improve from 0.20838\n",
            "Epoch 11/50\n",
            "1424/1424 [==============================] - 43s 30ms/step - loss: 0.3364 - acc: 0.8912 - val_loss: 0.1741 - val_acc: 0.9522\n",
            "\n",
            "Epoch 00011: val_loss improved from 0.20838 to 0.17412, saving model to RNN_weights.11-0.17.hdf5\n",
            "Epoch 12/50\n",
            "1424/1424 [==============================] - 43s 30ms/step - loss: 0.3343 - acc: 0.8968 - val_loss: 0.2338 - val_acc: 0.9326\n",
            "\n",
            "Epoch 00012: val_loss did not improve from 0.17412\n",
            "Epoch 13/50\n",
            "1424/1424 [==============================] - 43s 30ms/step - loss: 0.3709 - acc: 0.8926 - val_loss: 0.1793 - val_acc: 0.9551\n",
            "\n",
            "Epoch 00013: val_loss did not improve from 0.17412\n",
            "Epoch 14/50\n",
            "1424/1424 [==============================] - 44s 31ms/step - loss: 0.3349 - acc: 0.8926 - val_loss: 0.2348 - val_acc: 0.9382\n",
            "\n",
            "Epoch 00014: val_loss did not improve from 0.17412\n",
            "Epoch 15/50\n",
            "1424/1424 [==============================] - 43s 30ms/step - loss: 0.3436 - acc: 0.8968 - val_loss: 0.1615 - val_acc: 0.9579\n",
            "\n",
            "Epoch 00015: val_loss improved from 0.17412 to 0.16153, saving model to RNN_weights.15-0.16.hdf5\n",
            "Epoch 16/50\n",
            "1424/1424 [==============================] - 43s 30ms/step - loss: 0.3090 - acc: 0.9024 - val_loss: 0.1912 - val_acc: 0.9466\n",
            "\n",
            "Epoch 00016: val_loss did not improve from 0.16153\n",
            "Epoch 17/50\n",
            "1424/1424 [==============================] - 43s 30ms/step - loss: 0.3182 - acc: 0.9038 - val_loss: 0.1779 - val_acc: 0.9494\n",
            "\n",
            "Epoch 00017: val_loss did not improve from 0.16153\n",
            "Epoch 18/50\n",
            "1424/1424 [==============================] - 43s 30ms/step - loss: 0.3278 - acc: 0.8940 - val_loss: 0.1508 - val_acc: 0.9607\n",
            "\n",
            "Epoch 00018: val_loss improved from 0.16153 to 0.15083, saving model to RNN_weights.18-0.15.hdf5\n",
            "Epoch 19/50\n",
            "1424/1424 [==============================] - 43s 30ms/step - loss: 0.2787 - acc: 0.9164 - val_loss: 0.2534 - val_acc: 0.9242\n",
            "\n",
            "Epoch 00019: val_loss did not improve from 0.15083\n",
            "Epoch 20/50\n",
            "1424/1424 [==============================] - 43s 30ms/step - loss: 0.2754 - acc: 0.9192 - val_loss: 0.1869 - val_acc: 0.9466\n",
            "\n",
            "Epoch 00020: val_loss did not improve from 0.15083\n",
            "Epoch 21/50\n",
            "1424/1424 [==============================] - 44s 31ms/step - loss: 0.2738 - acc: 0.9199 - val_loss: 0.1500 - val_acc: 0.9635\n",
            "\n",
            "Epoch 00021: val_loss improved from 0.15083 to 0.14996, saving model to RNN_weights.21-0.15.hdf5\n",
            "Epoch 22/50\n",
            "1424/1424 [==============================] - 43s 30ms/step - loss: 0.3188 - acc: 0.8989 - val_loss: 0.1878 - val_acc: 0.9410\n",
            "\n",
            "Epoch 00022: val_loss did not improve from 0.14996\n",
            "Epoch 23/50\n",
            "1424/1424 [==============================] - 43s 30ms/step - loss: 0.2803 - acc: 0.9129 - val_loss: 0.1376 - val_acc: 0.9579\n",
            "\n",
            "Epoch 00023: val_loss improved from 0.14996 to 0.13764, saving model to RNN_weights.23-0.14.hdf5\n",
            "Epoch 24/50\n",
            "1424/1424 [==============================] - 43s 30ms/step - loss: 0.2732 - acc: 0.9171 - val_loss: 0.2553 - val_acc: 0.9185\n",
            "\n",
            "Epoch 00024: val_loss did not improve from 0.13764\n",
            "Epoch 25/50\n",
            "1424/1424 [==============================] - 43s 30ms/step - loss: 0.2622 - acc: 0.9235 - val_loss: 0.2014 - val_acc: 0.9438\n",
            "\n",
            "Epoch 00025: val_loss did not improve from 0.13764\n",
            "Epoch 26/50\n",
            "1424/1424 [==============================] - 43s 30ms/step - loss: 0.2597 - acc: 0.9199 - val_loss: 0.1857 - val_acc: 0.9466\n",
            "\n",
            "Epoch 00026: val_loss did not improve from 0.13764\n",
            "Epoch 27/50\n",
            "1424/1424 [==============================] - 43s 30ms/step - loss: 0.2497 - acc: 0.9242 - val_loss: 0.1556 - val_acc: 0.9579\n",
            "\n",
            "Epoch 00027: val_loss did not improve from 0.13764\n",
            "Epoch 28/50\n",
            "1424/1424 [==============================] - 43s 30ms/step - loss: 0.2491 - acc: 0.9235 - val_loss: 0.1314 - val_acc: 0.9607\n",
            "\n",
            "Epoch 00028: val_loss improved from 0.13764 to 0.13135, saving model to RNN_weights.28-0.13.hdf5\n",
            "Epoch 29/50\n",
            "1424/1424 [==============================] - 43s 30ms/step - loss: 0.2164 - acc: 0.9375 - val_loss: 0.1640 - val_acc: 0.9522\n",
            "\n",
            "Epoch 00029: val_loss did not improve from 0.13135\n",
            "Epoch 30/50\n",
            "1424/1424 [==============================] - 43s 30ms/step - loss: 0.2113 - acc: 0.9368 - val_loss: 0.1390 - val_acc: 0.9579\n",
            "\n",
            "Epoch 00030: val_loss did not improve from 0.13135\n",
            "Epoch 31/50\n",
            "1424/1424 [==============================] - 43s 30ms/step - loss: 0.2218 - acc: 0.9291 - val_loss: 0.1344 - val_acc: 0.9635\n",
            "\n",
            "Epoch 00031: val_loss did not improve from 0.13135\n",
            "Epoch 32/50\n",
            "1424/1424 [==============================] - 43s 30ms/step - loss: 0.2345 - acc: 0.9242 - val_loss: 0.1741 - val_acc: 0.9522\n",
            "\n",
            "Epoch 00032: val_loss did not improve from 0.13135\n",
            "Epoch 33/50\n",
            "1424/1424 [==============================] - 43s 30ms/step - loss: 0.2062 - acc: 0.9347 - val_loss: 0.1606 - val_acc: 0.9494\n",
            "\n",
            "Epoch 00033: val_loss did not improve from 0.13135\n",
            "Epoch 34/50\n",
            "1424/1424 [==============================] - 43s 30ms/step - loss: 0.2008 - acc: 0.9403 - val_loss: 0.1372 - val_acc: 0.9607\n",
            "\n",
            "Epoch 00034: val_loss did not improve from 0.13135\n",
            "Epoch 35/50\n",
            "1424/1424 [==============================] - 43s 30ms/step - loss: 0.2343 - acc: 0.9312 - val_loss: 0.1318 - val_acc: 0.9663\n",
            "\n",
            "Epoch 00035: val_loss did not improve from 0.13135\n",
            "Epoch 36/50\n",
            "1424/1424 [==============================] - 44s 31ms/step - loss: 0.2018 - acc: 0.9333 - val_loss: 0.1773 - val_acc: 0.9410\n",
            "\n",
            "Epoch 00036: val_loss did not improve from 0.13135\n",
            "Epoch 37/50\n",
            "1424/1424 [==============================] - 43s 30ms/step - loss: 0.1996 - acc: 0.9326 - val_loss: 0.1550 - val_acc: 0.9579\n",
            "\n",
            "Epoch 00037: val_loss did not improve from 0.13135\n",
            "Epoch 38/50\n",
            "1424/1424 [==============================] - 43s 30ms/step - loss: 0.1749 - acc: 0.9417 - val_loss: 0.1391 - val_acc: 0.9635\n",
            "\n",
            "Epoch 00038: val_loss did not improve from 0.13135\n",
            "Epoch 00038: early stopping\n",
            "Time taken:  1650108\n"
          ],
          "name": "stdout"
        }
      ]
    },
    {
      "metadata": {
        "id": "vl8sxWfCEvhn",
        "colab_type": "code",
        "colab": {
          "base_uri": "https://localhost:8080/",
          "height": 303
        },
        "outputId": "e99061ab-b9da-481f-ed01-f550fed7d944"
      },
      "cell_type": "code",
      "source": [
        "fig=plt.figure()\n",
        "plt.plot(history.history['acc'],'r',linewidth=3.0)\n",
        "plt.plot(history.history['val_acc'],'b',linewidth=3.0)\n",
        "plt.legend(['Training Accuracy', 'Validation Accuracy'],fontsize=18)\n",
        "plt.xlabel('Epochs ',fontsize=16)\n",
        "plt.ylabel('Accuracy',fontsize=16)\n",
        "plt.title('Accuracy Curves : CNN',fontsize=16)\n",
        "fig.savefig('accuracy_cnn.png')\n",
        "plt.show()"
      ],
      "execution_count": 88,
      "outputs": [
        {
          "output_type": "display_data",
          "data": {
            "image/png": "[encoded data removed]",
            "text/plain": [
              "<Figure size 432x288 with 1 Axes>"
            ]
          },
          "metadata": {
            "tags": []
          }
        }
      ]
    },
    {
      "metadata": {
        "id": "VbE3Cy1LFJhy",
        "colab_type": "code",
        "colab": {}
      },
      "cell_type": "code",
      "source": [
        "# Save the trained weights\n",
        "model.save(model_name + \".h5\")\n",
        "\n",
        "# Save model config as json\n",
        "model_json = model.to_json()\n",
        "with open(model_name + \".json\", \"w\") as json_file:\n",
        "    json_file.write(model_json)\n",
        "\n",
        "# Persist the model to your google drive [VERY IMPORTANT]\n",
        "!cp RNN.* gdrive/My\\ Drive/"
      ],
      "execution_count": 0,
      "outputs": []
    },
    {
      "metadata": {
        "id": "6dqZeS3tGII0",
        "colab_type": "code",
        "colab": {
          "base_uri": "https://localhost:8080/",
          "height": 69
        },
        "outputId": "1add5b06-e0d6-4373-dcb1-a6df940498e3"
      },
      "cell_type": "code",
      "source": [
        "predict_test(lstm_model)"
      ],
      "execution_count": 90,
      "outputs": [
        {
          "output_type": "stream",
          "text": [
            "Shape of data tensor: (445, 1000)\n",
            "Shape of label tensor: (1780, 5)\n",
            "Test Accuracy: 97.52808988764045 %\n"
          ],
          "name": "stdout"
        }
      ]
    },
    {
      "metadata": {
        "id": "Bz0qLhb1Gi2s",
        "colab_type": "code",
        "colab": {}
      },
      "cell_type": "code",
      "source": [
        ""
      ],
      "execution_count": 0,
      "outputs": []
    }
  ]
}